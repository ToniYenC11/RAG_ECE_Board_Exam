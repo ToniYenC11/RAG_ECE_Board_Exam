{
 "cells": [
  {
   "cell_type": "markdown",
   "id": "61a0bc23",
   "metadata": {},
   "source": [
    "# **Continuous Integration and Continous Deployment**\n",
    "\n",
    "CI/CD is simply the practice of automating the build, test, deploy in the software development lifecycle.\n",
    "\n",
    "- **CI (Continuous Integration)**: Every time you write code, it automatically gets tested and merged with everyone else's code\n",
    "- **CD (Continuous Deployment)**: Once the code passes tests, it automatically gets deployed to production without manual intervention\n"
   ]
  },
  {
   "cell_type": "markdown",
   "id": "1b9feb44",
   "metadata": {},
   "source": [
    "## **How CI/CD Transforms Each SDLC Phase**\n",
    "\n",
    "1. **Planning Phase**\n",
    "- **What CI/CD adds**: Automated project setup, environment provisioning\n",
    "- **Benefit**: New features can be planned with deployment automation in mind\n",
    "\n",
    "2. **Development Phase**\n",
    "- **What CI/CD adds**:\n",
    "    - Code is automatically tested on every commit\n",
    "    - Immediate feedback on code quality\n",
    "    - Automated code reviews and linting\n",
    "- **Benefit**: Developers catch bugs within minutes, not day\n",
    "\n",
    "3. **Testing Phase**\n",
    "- **What CI/CD adds**:\n",
    "    - Automated unit tests, integration tests, UI tests\n",
    "    - Parallel testing across multiple environments\n",
    "    - Automated security scanning\n",
    "- **Benefits**: Testing happens continuously, not just at the end\n",
    "\n",
    "4. **Integration Phase**\n",
    "- **What CI/CD adds**:\n",
    "    - Code automatically merges if tests pass\n",
    "    - Immediate conflict detection\n",
    "    - Automated dependency updates\n",
    "- **Benefit**: No more \"integration hell\" - small, frequent integrations\n",
    "\n",
    "5. **Deployment Phase**\n",
    "- **What CI/CD adds**:\n",
    "    - Automated deployment to staging/production\n",
    "    - Zero-downtime deployments\n",
    "    - Automatic rollback if issues detected\n",
    "- **Benefit**: Deployments happen multiple times per day safely\n",
    "\n",
    "6. **Monitoring Phase**\n",
    "- **What CI/CD adds**:\n",
    "    - Automated monitoring and alerting\n",
    "    - Performance tracking after each deployment\n",
    "    - Automatic scaling based on usage\n",
    "- **Benefit**: Issues are detected and resolved automatically"
   ]
  },
  {
   "cell_type": "markdown",
   "id": "eef343f6",
   "metadata": {},
   "source": [
    "## Example CI/CD in GitHub Actions"
   ]
  },
  {
   "cell_type": "markdown",
   "id": "66e73982",
   "metadata": {},
   "source": [
    "```yaml\n",
    "name: Update portfolio immediately\n",
    "\n",
    "# push on main branch\n",
    "on:\n",
    "  push:\n",
    "    branches:\n",
    "      - main\n",
    " \n",
    " # job steps -> 1. get code (checkout)  2. setup node/next (using latest)   3. run ci\n",
    "jobs:\n",
    "  build: # build time only. For large project, consider dividing test, stage ,deploy\n",
    "    runs-on: ubuntu-latest\n",
    "    steps:\n",
    "      - uses: actions/checkout@v4\n",
    "      - uses: actions/setup-node@v4\n",
    "        with:\n",
    "          node-version: '18'\n",
    "          cache: 'npm' # Cache your dependencies\n",
    "      - run: npm ci # this means install\n",
    "        continue-on-error: false\n",
    "      - run: npm test\n",
    "        continue-on-error: false\n",
    "      - run: npx next build # defined build on package.json\n",
    "        continue-on-error: false\n",
    "      - run: npm run deploy # Kindly define this in package.json under script\n",
    "        continue-on-error: false\n",
    "```"
   ]
  },
  {
   "cell_type": "markdown",
   "id": "37bebeb7",
   "metadata": {},
   "source": [
    "This simple CI/CD has several problems.\n",
    "\n",
    "### **No Environment Separation**\n",
    "- **Problem**: Running tests and deployment in same job\n",
    "- **Fix**: Separate build/test from deployment\n",
    "\n",
    "```yaml\n",
    "jobs:\n",
    "  test:\n",
    "    runs-on: ubuntu-latest\n",
    "    steps:\n",
    "      # ... test steps\n",
    "  \n",
    "  deploy:\n",
    "    needs: test\n",
    "    runs-on: ubuntu-latest\n",
    "    steps:\n",
    "      # ... deploy steps\n",
    "```\n",
    "\n",
    "### **No Conditional Deployment**\n",
    "- **Problem**: Deploys even if tests fail\n",
    "- **Fix**: Use job dependencies and conditions\n",
    "\n",
    "```yaml\n",
    "deploy:\n",
    "  needs: test\n",
    "  if: success()\n",
    "```\n",
    "\n",
    "### **No Security for Secrets**\n",
    "- **Problem**: Deployment without proper secret management\n",
    "- **Fix**: Use GitHub secrets\n",
    "\n",
    "```yaml\n",
    "- run: npm run deploy\n",
    "  env:\n",
    "    DEPLOY_TOKEN: ${{ secrets.DEPLOY_TOKEN }}\n",
    "```"
   ]
  },
  {
   "cell_type": "markdown",
   "id": "82568158",
   "metadata": {},
   "source": [
    "## **CI/CD Using Jenkins**"
   ]
  },
  {
   "cell_type": "markdown",
   "id": "76eb1fe6",
   "metadata": {},
   "source": []
  },
  {
   "cell_type": "markdown",
   "id": "75264348",
   "metadata": {},
   "source": []
  }
 ],
 "metadata": {
  "language_info": {
   "name": "python"
  }
 },
 "nbformat": 4,
 "nbformat_minor": 5
}
