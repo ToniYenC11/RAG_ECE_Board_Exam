{
 "cells": [
  {
   "cell_type": "markdown",
   "id": "ee629882",
   "metadata": {},
   "source": [
    "# Text Extraction Using Docling"
   ]
  },
  {
   "cell_type": "code",
   "execution_count": 2,
   "id": "3639cc1b",
   "metadata": {},
   "outputs": [
    {
     "name": "stdout",
     "output_type": "stream",
     "text": [
      "Markdown file saved to: RA9292.md\n"
     ]
    }
   ],
   "source": [
    "from docling.document_converter import DocumentConverter\n",
    "\n",
    "source = '/home/toni11/Documents/Programming_Projects/AI Projects/GPT2_GEAS/Datasets/Laws/Republic Act No. 9292.pdf'\n",
    "converter = DocumentConverter()\n",
    "result = converter.convert(source)\n",
    "\n",
    "markdown_text = result.document.export_to_markdown()\n",
    "\n",
    "# Save to a Markdown file\n",
    "output_path = 'RA9292.md'\n",
    "with open(output_path, 'w', encoding='utf-8') as f:\n",
    "    f.write(markdown_text)\n",
    "\n",
    "print(f\"Markdown file saved to: {output_path}\")"
   ]
  },
  {
   "cell_type": "code",
   "execution_count": 1,
   "id": "678d8c80",
   "metadata": {},
   "outputs": [
    {
     "name": "stderr",
     "output_type": "stream",
     "text": [
      "/home/toni11/.local/share/virtualenvs/GPT2_GEAS-DmZNTpg5/lib/python3.13/site-packages/tqdm/auto.py:21: TqdmWarning: IProgress not found. Please update jupyter and ipywidgets. See https://ipywidgets.readthedocs.io/en/stable/user_install.html\n",
      "  from .autonotebook import tqdm as notebook_tqdm\n",
      "Downloading detection model, please wait. This may take several minutes depending upon your network connection.\n"
     ]
    },
    {
     "name": "stdout",
     "output_type": "stream",
     "text": [
      "Starting PDF to Markdown extraction...\n",
      "Processing directory: Chemistry\n",
      "  Converting General Chemistry_ The Essential Concepts_Glossary.pdf to General Chemistry_ The Essential Concepts_Glossary.md\n"
     ]
    },
    {
     "name": "stderr",
     "output_type": "stream",
     "text": [
      "Downloading recognition model, please wait. This may take several minutes depending upon your network connection.\n"
     ]
    },
    {
     "name": "stdout",
     "output_type": "stream",
     "text": [
      "  ✓ Successfully converted General Chemistry_ The Essential Concepts_Glossary.pdf\n",
      "  Converting General chemistry for engineers-Glossary.pdf to General chemistry for engineers-Glossary.md\n",
      "  ✓ Successfully converted General chemistry for engineers-Glossary.pdf\n",
      "Processing directory: Econ\n",
      "  No PDF files found in Econ\n",
      "Processing directory: EngMan\n",
      "  No PDF files found in EngMan\n",
      "Processing directory: EngMan_TQM\n",
      "  Converting Six Sigma Definition - What is Lean Six Sigma_ASQ.pdf to Six Sigma Definition - What is Lean Six Sigma_ASQ.md\n",
      "  ✓ Successfully converted Six Sigma Definition - What is Lean Six Sigma_ASQ.pdf\n",
      "  Converting DMAIC - The 5 Phases of Lean Six Sigma .pdf to DMAIC - The 5 Phases of Lean Six Sigma .md\n",
      "  ✓ Successfully converted DMAIC - The 5 Phases of Lean Six Sigma .pdf\n",
      "  Converting ISO-9001-2015.pdf to ISO-9001-2015.md\n",
      "  ✓ Successfully converted ISO-9001-2015.pdf\n",
      "Processing directory: Laws\n",
      "  Converting ECE_Code_of_Ethics.pdf to ECE_Code_of_Ethics.md\n",
      "  ✓ Successfully converted ECE_Code_of_Ethics.pdf\n",
      "  Converting Republic Act No. 5734.pdf to Republic Act No. 5734.md\n",
      "  ✓ Successfully converted Republic Act No. 5734.pdf\n",
      "  Converting Republic Act No. 10175.pdf to Republic Act No. 10175.md\n",
      "  ✓ Successfully converted Republic Act No. 10175.pdf\n",
      "  Converting Republic Act No. 10173.pdf to Republic Act No. 10173.md\n",
      "  ✓ Successfully converted Republic Act No. 10173.pdf\n",
      "Processing directory: Techno\n",
      "  No PDF files found in Techno\n",
      "Processing directory: Others\n",
      "  Converting BS_ECE_CMO-101-s.-2017-BS-Electronics-Engineering.pdf to BS_ECE_CMO-101-s.-2017-BS-Electronics-Engineering.md\n",
      "  ✓ Successfully converted BS_ECE_CMO-101-s.-2017-BS-Electronics-Engineering.pdf\n",
      "Extraction process completed!\n"
     ]
    }
   ],
   "source": [
    "import os\n",
    "from pathlib import Path\n",
    "from docling.document_converter import DocumentConverter\n",
    "\n",
    "def extract_pdfs_to_markdown():\n",
    "    \"\"\"\n",
    "    Extract PDFs from Datasets subdirectories and save as markdown files\n",
    "    in corresponding Datasets_md subdirectories.\n",
    "    \"\"\"\n",
    "    \n",
    "    # Initialize the document converter\n",
    "    converter = DocumentConverter()\n",
    "    \n",
    "    # Define source and destination directories\n",
    "    source_dir = Path(\"Datasets\")\n",
    "    dest_dir = Path(\"Datasets_md\")\n",
    "    \n",
    "    # Check if source directory exists\n",
    "    if not source_dir.exists():\n",
    "        print(f\"Source directory '{source_dir}' does not exist.\")\n",
    "        return\n",
    "    \n",
    "    # Create destination directory if it doesn't exist\n",
    "    dest_dir.mkdir(exist_ok=True)\n",
    "    \n",
    "    # Iterate through subdirectories in Datasets\n",
    "    for directory in os.listdir(source_dir):\n",
    "        subdir_path = source_dir / directory\n",
    "        \n",
    "        # Skip if not a directory\n",
    "        if not subdir_path.is_dir():\n",
    "            continue\n",
    "            \n",
    "        print(f\"Processing directory: {directory}\")\n",
    "        \n",
    "        # Create corresponding subdirectory in Datasets_md\n",
    "        dest_subdir = dest_dir / directory\n",
    "        dest_subdir.mkdir(exist_ok=True)\n",
    "        \n",
    "        # Find all PDF files in the current subdirectory\n",
    "        pdf_files = list(subdir_path.glob(\"*.pdf\"))\n",
    "        \n",
    "        if not pdf_files:\n",
    "            print(f\"  No PDF files found in {directory}\")\n",
    "            continue\n",
    "            \n",
    "        # Process each PDF file\n",
    "        for pdf_file in pdf_files:\n",
    "            # Generate markdown filename (same name, different extension)\n",
    "            md_filename = pdf_file.stem + \".md\"\n",
    "            md_filepath = dest_subdir / md_filename\n",
    "            \n",
    "            # Check if markdown file already exists\n",
    "            if md_filepath.exists():\n",
    "                print(f\"  Skipping {pdf_file.name} - {md_filename} already exists\")\n",
    "                continue\n",
    "            try:\n",
    "                print(f\"  Converting {pdf_file.name} to {md_filename}\")\n",
    "                \n",
    "                # Convert PDF to document\n",
    "                result = converter.convert(str(pdf_file))\n",
    "                \n",
    "                # Export as markdown\n",
    "                markdown_content = result.document.export_to_markdown()\n",
    "                \n",
    "                # Save markdown file\n",
    "                with open(md_filepath, 'w', encoding='utf-8') as f:\n",
    "                    f.write(markdown_content)\n",
    "                \n",
    "                print(f\"  ✓ Successfully converted {pdf_file.name}\")\n",
    "                \n",
    "            except Exception as e:\n",
    "                print(f\"  ✗ Error converting {pdf_file.name}: {str(e)}\")\n",
    "                continue\n",
    "    \n",
    "def main():\n",
    "    \"\"\"Main function to run the PDF extraction process.\"\"\"\n",
    "    print(\"Starting PDF to Markdown extraction...\")\n",
    "    extract_pdfs_to_markdown()\n",
    "    print(\"Extraction process completed!\")\n",
    "\n",
    "if __name__ == \"__main__\":\n",
    "    main()"
   ]
  },
  {
   "cell_type": "code",
   "execution_count": null,
   "id": "2e31f638",
   "metadata": {},
   "outputs": [],
   "source": []
  }
 ],
 "metadata": {
  "kernelspec": {
   "display_name": "GPT2_GEAS-DmZNTpg5",
   "language": "python",
   "name": "python3"
  },
  "language_info": {
   "codemirror_mode": {
    "name": "ipython",
    "version": 3
   },
   "file_extension": ".py",
   "mimetype": "text/x-python",
   "name": "python",
   "nbconvert_exporter": "python",
   "pygments_lexer": "ipython3",
   "version": "3.13.3"
  }
 },
 "nbformat": 4,
 "nbformat_minor": 5
}
