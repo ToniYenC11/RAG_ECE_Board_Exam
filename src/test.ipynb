{
 "cells": [
  {
   "cell_type": "markdown",
   "id": "1a845d7e",
   "metadata": {},
   "source": [
    "## Creating Custom Pipelines in Hugging Face"
   ]
  },
  {
   "cell_type": "code",
   "execution_count": null,
   "id": "bf940fcc",
   "metadata": {},
   "outputs": [
    {
     "name": "stderr",
     "output_type": "stream",
     "text": [
      "Device set to use cuda:0\n"
     ]
    },
    {
     "name": "stdout",
     "output_type": "stream",
     "text": [
      "[{'label': 'NEGATIVE', 'score': 0.9892070293426514}]\n",
      "[{'label': 'POSITIVE', 'score': 0.9987523555755615}]\n"
     ]
    },
    {
     "name": "stderr",
     "output_type": "stream",
     "text": [
      "Device set to use cuda:0\n"
     ]
    },
    {
     "name": "stdout",
     "output_type": "stream",
     "text": [
      "a chairman and two (2) members\n",
      "three (3) recommendees per position chosen and ranked by the Commission\n"
     ]
    }
   ],
   "source": [
    "from transformers import pipeline\n",
    "\n",
    "#* Text classification\n",
    "my_pipeline = pipeline('text-classification', model=\"distilbert-base-uncased-finetuned-sst-2-english\")\n",
    "print(my_pipeline(\"Marin is typically late by 2 hours from the expected time.\"))\n",
    "print(my_pipeline(\"Toni is always on time.\"))\n",
    "\n",
    "#* Question Answering\n",
    "model_name = \"deepset/roberta-base-squad2\"\n",
    "context = 'There is hereby created a Professional Regulatory Board of Electronics Engineering, hereinafter referred to as the Board, under the administrative control and supervision of the Professional Regulation Commission, hereinafter referred to as the Commission, composed of a chairman and two (2) members who shall be appointed by the President of the Philippines from the three (3) recommendees per position chosen and ranked by the Commission, which recommendees shall in turn be chosen from the five (5) nominees for each position submitted by the accredited professional organization, in accordance with rules and regulations presently in existence or that may be promulgated for such purpose.'\n",
    "\n",
    "qa_pipeline = pipeline('question-answering',model=model_name, tokenizer=model_name)\n",
    "QA_Input = {\n",
    "    'question':'What is the composition of the board in Electronics Engineering Regulatory Board?',\n",
    "    'context' :context\n",
    "}\n",
    "print(qa_pipeline(QA_Input)['answer'])\n",
    "\n",
    "QA_Input = {\n",
    "    'question':'What will the president use as basis in appointing the board?',\n",
    "    'context' :context\n",
    "}\n",
    "print(qa_pipeline(QA_Input)['answer'])"
   ]
  },
  {
   "cell_type": "code",
   "execution_count": 16,
   "id": "2a0f3d94",
   "metadata": {},
   "outputs": [
    {
     "name": "stderr",
     "output_type": "stream",
     "text": [
      "Device set to use cuda:0\n"
     ]
    },
    {
     "name": "stdout",
     "output_type": "stream",
     "text": [
      "Original text length: 829\n",
      "Summary length: {'summary_text': 'Greece has many islands, with estimates ranging from around 1,200 to 6,000 depending on the minimum size to take into account. The number of inhabited islands is variously cited as between 166 and 227. The Greek islands are'}\n"
     ]
    }
   ],
   "source": [
    "original_text = '\\nGreece has many islands, with estimates ranging from somewhere around 1,200 to 6,000, depending on the minimum size to take into account. The number of inhabited islands is variously cited as between 166 and 227.\\nThe Greek islands are traditionally grouped into the following clusters: the Argo-Saronic Islands in the Saronic Gulf near Athens; the Cyclades, a large but dense collection occupying the central part of the Aegean Sea; the North Aegean islands, a loose grouping off the west coast of Turkey; the Dodecanese, another loose collection in the southeast between Crete and Turkey; the Sporades, a small tight group off the coast of Euboea; and the Ionian Islands, chiefly located to the west of the mainland in the Ionian Sea. Crete with its surrounding islets and Euboea are traditionally excluded from this grouping.\\n'\n",
    "\n",
    "#* Text summarization\n",
    "\n",
    "# Create the summarization pipeline\n",
    "summarizer = pipeline(task=\"summarization\", model=\"cnicu/t5-small-booksum\",max_length=50)\n",
    "\n",
    "# Summarize the text\n",
    "summary_text = summarizer(original_text)\n",
    "\n",
    "# Compare the length\n",
    "print(f\"Original text length: {len(original_text)}\")\n",
    "print(f\"Summary length: {summary_text[0]}\")"
   ]
  },
  {
   "cell_type": "markdown",
   "id": "ce0f6952",
   "metadata": {},
   "source": [
    "## Auto Models and Tokenizers\n",
    "\n",
    "- More control over behavior. Allows control of configuration.\n",
    "- The tokenizer clean input and split text into tokens"
   ]
  },
  {
   "cell_type": "code",
   "execution_count": 23,
   "id": "a56ed254",
   "metadata": {},
   "outputs": [
    {
     "name": "stderr",
     "output_type": "stream",
     "text": [
      "Device set to use cuda:0\n"
     ]
    },
    {
     "name": "stdout",
     "output_type": "stream",
     "text": [
      "a chairman and two (2) members\n",
      "three (3) recommendees per position chosen and ranked by the Commission\n"
     ]
    }
   ],
   "source": [
    "from transformers import AutoModelForQuestionAnswering, AutoTokenizer, pipeline\n",
    "\n",
    "tokenizer = AutoTokenizer.from_pretrained(\"deepset/roberta-base-squad2\")\n",
    "model = AutoModelForQuestionAnswering.from_pretrained(\"deepset/roberta-base-squad2\")\n",
    "\n",
    "qa_pipeline = pipeline(task='question-answering',model=model,tokenizer=tokenizer)\n",
    "\n",
    "QA_Input = {\n",
    "    'question':'What is the composition of the board in Electronics Engineering Regulatory Board?',\n",
    "    'context' :context\n",
    "}\n",
    "print(qa_pipeline(QA_Input)['answer'])\n",
    "\n",
    "QA_Input = {\n",
    "    'question':'What will the president use as basis in appointing the board?',\n",
    "    'context' :context\n",
    "}\n",
    "print(qa_pipeline(QA_Input)['answer'])"
   ]
  },
  {
   "cell_type": "markdown",
   "id": "e63b4fdf",
   "metadata": {},
   "source": []
  },
  {
   "cell_type": "code",
   "execution_count": null,
   "id": "d9ec3bf2",
   "metadata": {},
   "outputs": [],
   "source": []
  }
 ],
 "metadata": {
  "kernelspec": {
   "display_name": "Python 3",
   "language": "python",
   "name": "python3"
  },
  "language_info": {
   "codemirror_mode": {
    "name": "ipython",
    "version": 3
   },
   "file_extension": ".py",
   "mimetype": "text/x-python",
   "name": "python",
   "nbconvert_exporter": "python",
   "pygments_lexer": "ipython3",
   "version": "3.12.9"
  }
 },
 "nbformat": 4,
 "nbformat_minor": 5
}
