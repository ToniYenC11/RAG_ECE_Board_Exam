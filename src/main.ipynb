{
 "cells": [
  {
   "cell_type": "markdown",
   "id": "98027972",
   "metadata": {},
   "source": [
    "### Prompt Template"
   ]
  },
  {
   "cell_type": "code",
   "execution_count": 1,
   "id": "4c874fcc",
   "metadata": {},
   "outputs": [],
   "source": [
    "prompts = [\n",
    "  {\n",
    "    \"system\":\"\"\"\n",
    "    \n",
    "    # General Instructions \n",
    "    \n",
    "    You are a review assistant for a student taling up the Electronics Engineering Board Exam\n",
    "    in the Philippines. The topic of the exams along with the number of questions per competencies\n",
    "    are as follows:\n",
    "    \n",
    "    ## Topics of the ECE Board Exam\n",
    "    \n",
    "    ### Mathematics\n",
    "    1.\n",
    "    2.\n",
    "    \n",
    "    ### General Engineering and Applied Sciences\n",
    "    1.\n",
    "    2.\n",
    "    \n",
    "    ### Electroncis Engineering\n",
    "    1.\n",
    "    2.\n",
    "    \n",
    "    ### Electronic Systems and Technologies\n",
    "    1.\n",
    "    2.    \n",
    "\n",
    "    Here are the difficulty level for each competencies:\n",
    "    - Easy (introductory)\n",
    "        1. Knowledge\n",
    "        2. Comprehension\n",
    "    - Moderate (Enabling)\n",
    "        1. Application\n",
    "    - Difficult (Demonstrative)\n",
    "        1. Analysis\n",
    "        2. Synthesis\n",
    "        3. Evaluation\n",
    "    \"\"\"\n",
    "  },\n",
    "  \n",
    "  {#* Question-Answer Examples\n",
    "    \"question\": \"What is the scope of the examination for the DOST scholarship\",\n",
    "    \"answer\": \"\"\"Assuming you are referring to the undergraduate scholraship and the Junior Level Science Scholarship (JLSS), the subjects involved are the following:\n",
    "    1. Logical Reasoning - Situational questions, logical thinking, critical analysis, problem-solving\n",
    "    2. English - Grammar, reading comprehension, parts of a sentence, figures of speech\n",
    "    3. Science - Biology, Physics, Chemistry, Earth Scince, Advanced Sciences such as Environmental Science, Electronics\n",
    "    4. Mathematics - Algebra, Basic Calculus, Precalculus, Statistics and Probability, Numerical Methods\n",
    "    5. Mechanical-Technical - More on situations involving engineering principles and the emerging technologies today\n",
    "    6. Self-Inventory - Soft skills such as collaboration, communication, adaptiveness, among other skills\n",
    "    \"\"\"\n",
    "  }\n",
    "]"
   ]
  },
  {
   "cell_type": "markdown",
   "id": "aa044d14",
   "metadata": {},
   "source": [
    "### Imports"
   ]
  },
  {
   "cell_type": "code",
   "execution_count": null,
   "id": "3e459727",
   "metadata": {},
   "outputs": [],
   "source": [
    "from transformers import pipeline"
   ]
  },
  {
   "cell_type": "markdown",
   "id": "71afb9b5",
   "metadata": {},
   "source": [
    "# Main Pipeline"
   ]
  },
  {
   "cell_type": "code",
   "execution_count": null,
   "id": "5c2cbb9d",
   "metadata": {},
   "outputs": [],
   "source": []
  },
  {
   "cell_type": "code",
   "execution_count": null,
   "id": "ddfece86",
   "metadata": {},
   "outputs": [],
   "source": []
  }
 ],
 "metadata": {
  "kernelspec": {
   "display_name": "GPT2_GEAS",
   "language": "python",
   "name": "python3"
  },
  "language_info": {
   "codemirror_mode": {
    "name": "ipython",
    "version": 3
   },
   "file_extension": ".py",
   "mimetype": "text/x-python",
   "name": "python",
   "nbconvert_exporter": "python",
   "pygments_lexer": "ipython3",
   "version": "3.13.7"
  }
 },
 "nbformat": 4,
 "nbformat_minor": 5
}
